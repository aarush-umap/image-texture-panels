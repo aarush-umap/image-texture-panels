{
 "cells": [
  {
   "cell_type": "code",
   "execution_count": null,
   "id": "138fb128-2feb-4378-a2a9-3c3053763aff",
   "metadata": {
    "editable": true,
    "slideshow": {
     "slide_type": ""
    },
    "tags": []
   },
   "outputs": [],
   "source": [
    "import panel as pn"
   ]
  },
  {
   "cell_type": "code",
   "execution_count": null,
   "id": "7eda9166-4530-4371-af8f-f2aab85a3fe1",
   "metadata": {},
   "outputs": [],
   "source": [
    "pn.extension()"
   ]
  },
  {
   "cell_type": "code",
   "execution_count": null,
   "id": "d0239442-a570-4bfd-89e7-04824995ec4b",
   "metadata": {
    "editable": true,
    "slideshow": {
     "slide_type": ""
    },
    "tags": []
   },
   "outputs": [],
   "source": [
    "from skimage import data\n",
    "from skimage.util import img_as_ubyte\n",
    "from skimage.filters.rank import entropy\n",
    "from skimage.morphology import disk"
   ]
  },
  {
   "cell_type": "code",
   "execution_count": null,
   "id": "2a082a11-cf15-4522-b854-212554076bf0",
   "metadata": {
    "editable": true,
    "slideshow": {
     "slide_type": ""
    },
    "tags": []
   },
   "outputs": [],
   "source": [
    "import matplotlib.pyplot as plt"
   ]
  },
  {
   "cell_type": "code",
   "execution_count": null,
   "id": "c0f1dc29-a946-413a-bca5-ba54f2e5be93",
   "metadata": {},
   "outputs": [],
   "source": [
    "image = img_as_ubyte(data.camera())\n",
    "\n",
    "fig, (ax0, ax1) = plt.subplots(ncols=2, figsize=(12, 4),\n",
    "                               sharex=True, sharey=True)\n",
    "\n",
    "img0 = ax0.imshow(image, cmap=plt.cm.gray)\n",
    "ax0.set_title(\"Image\")\n",
    "ax0.axis(\"off\")\n",
    "fig.colorbar(img0, ax=ax0)\n",
    "\n",
    "img1 = ax1.imshow(entropy(image, disk(5)), cmap='gray')\n",
    "ax1.set_title(\"Entropy\")\n",
    "ax1.axis(\"off\")\n",
    "fig.colorbar(img1, ax=ax1)\n",
    "\n",
    "fig.tight_layout()\n",
    "\n",
    "plt.show()"
   ]
  },
  {
   "cell_type": "code",
   "execution_count": null,
   "id": "07333e36-f2b9-4b9f-8150-4235be136d55",
   "metadata": {},
   "outputs": [],
   "source": []
  }
 ],
 "metadata": {
  "kernelspec": {
   "display_name": "Python3.9 (image-texture-panels)",
   "language": "python",
   "name": "image-texture-panels"
  },
  "language_info": {
   "codemirror_mode": {
    "name": "ipython",
    "version": 3
   },
   "file_extension": ".py",
   "mimetype": "text/x-python",
   "name": "python",
   "nbconvert_exporter": "python",
   "pygments_lexer": "ipython3",
   "version": "3.9.18"
  }
 },
 "nbformat": 4,
 "nbformat_minor": 5
}
